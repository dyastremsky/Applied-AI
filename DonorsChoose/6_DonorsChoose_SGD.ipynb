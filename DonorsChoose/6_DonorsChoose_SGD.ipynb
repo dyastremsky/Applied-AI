{
 "cells": [
  {
   "cell_type": "markdown",
   "metadata": {},
   "source": [
    "<h1>Performing Linear Regression on Boston Housing Data.</h1>"
   ]
  },
  {
   "cell_type": "markdown",
   "metadata": {},
   "source": [
    "<h2>1. Loading and Formatting Data</h2>"
   ]
  },
  {
   "cell_type": "code",
   "execution_count": 290,
   "metadata": {},
   "outputs": [
    {
     "name": "stdout",
     "output_type": "stream",
     "text": [
      "(506, 13)\n"
     ]
    }
   ],
   "source": [
    "%matplotlib inline\n",
    "import warnings\n",
    "from sklearn.datasets import load_boston\n",
    "\n",
    "warnings.filterwarnings(\"ignore\")\n",
    "\n",
    "boston = load_boston()\n",
    "print(boston.data.shape)"
   ]
  },
  {
   "cell_type": "code",
   "execution_count": 291,
   "metadata": {},
   "outputs": [
    {
     "name": "stdout",
     "output_type": "stream",
     "text": [
      ".. _boston_dataset:\n",
      "\n",
      "Boston house prices dataset\n",
      "---------------------------\n",
      "\n",
      "**Data Set Characteristics:**  \n",
      "\n",
      "    :Number of Instances: 506 \n",
      "\n",
      "    :Number of Attributes: 13 numeric/categorical predictive. Median Value (attribute 14) is usually the target.\n",
      "\n",
      "    :Attribute Information (in order):\n",
      "        - CRIM     per capita crime rate by town\n",
      "        - ZN       proportion of residential land zoned for lots over 25,000 sq.ft.\n",
      "        - INDUS    proportion of non-retail business acres per town\n",
      "        - CHAS     Charles River dummy variable (= 1 if tract bounds river; 0 otherwise)\n",
      "        - NOX      nitric oxides concentration (parts per 10 million)\n",
      "        - RM       average number of rooms per dwelling\n",
      "        - AGE      proportion of owner-occupied units built prior to 1940\n",
      "        - DIS      weighted distances to five Boston employment centres\n",
      "        - RAD      index of accessibility to radial highways\n",
      "        - TAX      full-value property-tax rate per $10,000\n",
      "        - PTRATIO  pupil-teacher ratio by town\n",
      "        - B        1000(Bk - 0.63)^2 where Bk is the proportion of blacks by town\n",
      "        - LSTAT    % lower status of the population\n",
      "        - MEDV     Median value of owner-occupied homes in $1000's\n",
      "\n",
      "    :Missing Attribute Values: None\n",
      "\n",
      "    :Creator: Harrison, D. and Rubinfeld, D.L.\n",
      "\n",
      "This is a copy of UCI ML housing dataset.\n",
      "https://archive.ics.uci.edu/ml/machine-learning-databases/housing/\n",
      "\n",
      "\n",
      "This dataset was taken from the StatLib library which is maintained at Carnegie Mellon University.\n",
      "\n",
      "The Boston house-price data of Harrison, D. and Rubinfeld, D.L. 'Hedonic\n",
      "prices and the demand for clean air', J. Environ. Economics & Management,\n",
      "vol.5, 81-102, 1978.   Used in Belsley, Kuh & Welsch, 'Regression diagnostics\n",
      "...', Wiley, 1980.   N.B. Various transformations are used in the table on\n",
      "pages 244-261 of the latter.\n",
      "\n",
      "The Boston house-price data has been used in many machine learning papers that address regression\n",
      "problems.   \n",
      "     \n",
      ".. topic:: References\n",
      "\n",
      "   - Belsley, Kuh & Welsch, 'Regression diagnostics: Identifying Influential Data and Sources of Collinearity', Wiley, 1980. 244-261.\n",
      "   - Quinlan,R. (1993). Combining Instance-Based and Model-Based Learning. In Proceedings on the Tenth International Conference of Machine Learning, 236-243, University of Massachusetts, Amherst. Morgan Kaufmann.\n",
      "\n"
     ]
    }
   ],
   "source": [
    "print(boston.DESCR)"
   ]
  },
  {
   "cell_type": "code",
   "execution_count": 292,
   "metadata": {},
   "outputs": [],
   "source": [
    "\n",
    "import numpy as np\n",
    "from sklearn.preprocessing import StandardScaler\n",
    "from sklearn.model_selection import train_test_split\n",
    "\n",
    "#Split data into train and test to avoid data leakage.\n",
    "X_train, X_test, y_train, y_test = train_test_split(X, y, test_size=0.2)\n",
    "\n",
    "#Normalize the data.\n",
    "scaler = StandardScaler()\n",
    "scaler.fit(X_train) \n",
    "X_train = scaler.transform(X_train)\n",
    "X_test = scaler.transform(X_test)\n",
    "\n",
    "#Set y values.\n",
    "y = boston.target\n",
    "y = np.reshape(y, (-1, 1))"
   ]
  },
  {
   "cell_type": "markdown",
   "metadata": {},
   "source": [
    "<h2>2. Custom Implementation of SGD for Linear Regression (No Regularizer)</h2>"
   ]
  },
  {
   "cell_type": "code",
   "execution_count": 293,
   "metadata": {},
   "outputs": [],
   "source": [
    "#Custom implementation of SGD for linear regression, without a regularizer.\n",
    "#r: learning rate\n",
    "#n_iter: # of iterations of linear regression\n",
    "\n",
    "#Source for second loop: https://stackoverflow.com/questions/14262654/numpy-get-random-set-of-rows-from-2d-array\n",
    "#Found by Googling \"python select random rows from numpy array\"\n",
    "#The batch size is 15 for each iteration.\n",
    "\n",
    "def run_LR(X, y, r, n_iter):    \n",
    "    w_loss = 0\n",
    "    b_loss = 0\n",
    "    w = np.random.rand(1,13)\n",
    "    b = np.random.random_sample()\n",
    "    n = len(y)\n",
    "\n",
    "    for i in range(0,n_iter):\n",
    "        sample = np.hstack((X,y))\n",
    "        sample = sample[np.random.choice(X.shape[0], 15, replace=False), :]\n",
    "        X_sample, y_sample = sample[:, :-1], sample[:, -1]\n",
    "        y_sample = np.reshape(y_sample, (-1, 1))\n",
    "        w = w - r*(1/n * np.dot((-2 * X_sample.T),(y_sample - np.dot(X_sample, w.T) - b))).T\n",
    "        b = b - r*sum(1/n * ((-2) * (y_sample - np.dot(X_sample, w.T) - b)))\n",
    "        r = r*.999\n",
    "\n",
    "    return b, w"
   ]
  },
  {
   "cell_type": "code",
   "execution_count": 294,
   "metadata": {},
   "outputs": [],
   "source": [
    "#Source: https://stackoverflow.com/questions/16774849/mean-squared-error-in-numpy\n",
    "\n",
    "def find_mse(y_pred, y):\n",
    "    mse = ((y_pred - y)**2).mean()\n",
    "    return mse"
   ]
  },
  {
   "cell_type": "code",
   "execution_count": 295,
   "metadata": {},
   "outputs": [
    {
     "name": "stdout",
     "output_type": "stream",
     "text": [
      "The mean squared error with the custom implementation is 20.04.\n"
     ]
    },
    {
     "data": {
      "image/png": "[encoded data removed]",
      "text/plain": [
       "<Figure size 432x288 with 1 Axes>"
      ]
     },
     "metadata": {},
     "output_type": "display_data"
    }
   ],
   "source": [
    "#Custom Implementation of Linear Regression\n",
    "import matplotlib.pyplot as plt\n",
    "\n",
    "#b: y-intercept (i.e. W0)\n",
    "#w: array of weights (i.e. W1 to weight for last feature)\n",
    "#Train the model with the training dataset.\n",
    "b, w = run_LR(X_train, y_train, 1, 4000)\n",
    "#Test the model with the test dataset.\n",
    "y_pred = np.dot(X_test, w.T) + b\n",
    "mse = find_mse(y_pred, y_test)\n",
    "print(\"The mean squared error with the custom implementation is {0:.2f}.\".format(mse))\n",
    "\n",
    "#Plot graph of predicted values versus actual values.\n",
    "plt.scatter(y_test, y_pred)\n",
    "plt.title('Predicted Vs. Actual Values')\n",
    "plt.xlabel('y_test')\n",
    "plt.ylabel('y_pred')\n",
    "plt.show()"
   ]
  },
  {
   "cell_type": "markdown",
   "metadata": {},
   "source": [
    "<h2>3. Scikit-Learn Implementation of SDG for Linear Regression</h2>"
   ]
  },
  {
   "cell_type": "code",
   "execution_count": 296,
   "metadata": {},
   "outputs": [
    {
     "name": "stdout",
     "output_type": "stream",
     "text": [
      "The mean squared error with the SKLearn implementation is 21.13.\n"
     ]
    },
    {
     "data": {
      "image/png": "[encoded data removed]",
      "text/plain": [
       "<Figure size 432x288 with 1 Axes>"
      ]
     },
     "metadata": {},
     "output_type": "display_data"
    }
   ],
   "source": [
    "#Use SKLearn's SGDRegressor.\n",
    "from sklearn import linear_model\n",
    "\n",
    "clf = linear_model.SGDRegressor(loss = 'squared_loss', max_iter=4000, tol=1e-5)\n",
    "clf.fit(X_train, y_train)\n",
    "y_pred_skl = clf.predict(X_test)\n",
    "y_pred_skl = np.reshape(y_pred_skl, (-1, 1))\n",
    "mse_skl = float(find_mse(y_pred_skl, y_test))\n",
    "print(\"The mean squared error with the SKLearn implementation is {0:.2f}.\".format(mse_skl))\n",
    "\n",
    "plt.scatter(y_test, y_pred_skl)\n",
    "plt.title('Predicted Vs. Actual Values')\n",
    "plt.xlabel('y_test')\n",
    "plt.ylabel('y_pred')\n",
    "plt.show()"
   ]
  },
  {
   "cell_type": "markdown",
   "metadata": {},
   "source": [
    "<h2>4. Comparison of Custom vs. Scikit-Learn Implementations</h2>"
   ]
  },
  {
   "cell_type": "markdown",
   "metadata": {},
   "source": [
    "<h3>4.1 Graphical Comparison</h3>"
   ]
  },
  {
   "cell_type": "code",
   "execution_count": 297,
   "metadata": {},
   "outputs": [
    {
     "data": {
      "image/png": "[encoded data removed]",
      "text/plain": [
       "<Figure size 432x288 with 2 Axes>"
      ]
     },
     "metadata": {},
     "output_type": "display_data"
    }
   ],
   "source": [
    "plt.subplots_adjust(left=3, bottom=5, right=4, top=6, wspace=None, hspace=.5)\n",
    "\n",
    "plt.subplot(2, 1, 1)\n",
    "plt.scatter(y_test, y_pred)\n",
    "plt.title('Custom: Predicted Vs. Actual')\n",
    "plt.xlabel('y_test')\n",
    "plt.ylabel('y_pred')\n",
    "\n",
    "plt.subplot(2, 1, 2)\n",
    "plt.scatter(y_test, y_pred_skl)\n",
    "plt.title('Scikit-Learn: Predicted Vs. Actual')\n",
    "plt.xlabel('y_test')\n",
    "plt.ylabel('y_pred')\n",
    "plt.show()"
   ]
  },
  {
   "cell_type": "code",
   "execution_count": 298,
   "metadata": {},
   "outputs": [
    {
     "data": {
      "image/png": "[encoded data removed]",
      "text/plain": [
       "<Figure size 432x288 with 1 Axes>"
      ]
     },
     "metadata": {},
     "output_type": "display_data"
    }
   ],
   "source": [
    "plt.plot(y_pred, y_pred_skl)\n",
    "plt.title('Custom vs. Scikit-Learn Predicted Values')\n",
    "plt.xlabel('Custom LR Prediction')\n",
    "plt.ylabel('SK-Learn LR Prediction')\n",
    "plt.show()"
   ]
  },
  {
   "cell_type": "markdown",
   "metadata": {},
   "source": [
    "<h3>4.2 Tabular Comparison</h3>"
   ]
  },
  {
   "cell_type": "code",
   "execution_count": 299,
   "metadata": {},
   "outputs": [
    {
     "name": "stdout",
     "output_type": "stream",
     "text": [
      "+--------------------+------------------+-------+-----+----+----+----+-----+----+----+-----+----+-----+-----+----+-----+\n",
      "|       Model        |Mean Squared Error|   W0  |  W1 | W2 | W3 | W4 |  W5 | W6 | W7 |  W8 | W9 | W10 | W11 |W12 | W13 |\n",
      "+--------------------+------------------+-------+-----+----+----+----+-----+----+----+-----+----+-----+-----+----+-----+\n",
      "| Custom Linear Reg. |      20.04       |[22.58]|-1.19|0.76|0.17|0.94|-0.90|6.71|0.07|-2.69|1.43|-0.16|-2.10|1.43|-3.22|\n",
      "|Sk-Learn Linear Reg.|      21.13       |[22.56]|-1.10|0.69|0.07|0.92|-0.74|6.13|0.14|-2.52|1.30|-0.96|-2.15|0.72|-3.37|\n",
      "+--------------------+------------------+-------+-----+----+----+----+-----+----+----+-----+----+-----+-----+----+-----+\n"
     ]
    }
   ],
   "source": [
    "from prettytable import PrettyTable\n",
    "np.set_printoptions(precision=2, suppress=True)    \n",
    "\n",
    "x = PrettyTable()\n",
    "x.padding_width = (0)\n",
    "\n",
    "x.field_names = [\"Model\", \"Mean Squared Error\", \"W0\", \"W1\", \"W2\", \"W3\", \"W4\", \"W5\", \"W6\", \"W7\", \"W8\", \"W9\", \"W10\", \"W11\",\"W12\", \"W13\"]\n",
    "\n",
    "x.add_row([\"Custom Linear Reg.\", \"{0:.2f}\".format(mse), b, \"{0:.2f}\".format(w[0,0]), \"{0:.2f}\".format(w[0,1]),\\\n",
    "           \"{0:.2f}\".format(w[0,2]), \"{0:.2f}\".format(w[0,3]), \"{0:.2f}\".format(w[0,4]), \"{0:.2f}\".format(w[0,5]),\\\n",
    "           \"{0:.2f}\".format(w[0,6]), \"{0:.2f}\".format(w[0,7]),\"{0:.2f}\".format(w[0,8]), \"{0:.2f}\".format(w[0,9]),\\\n",
    "           \"{0:.2f}\".format(w[0,10]), \"{0:.2f}\".format(w[0,11]), \"{0:.2f}\".format(w[0,12])])\n",
    "x.add_row([\"Sk-Learn Linear Reg.\", \"{0:.2f}\".format(mse_skl), clf.intercept_, \"{0:.2f}\".format(clf.coef_[0]),\\\n",
    "           \"{0:.2f}\".format(clf.coef_[1]), \"{0:.2f}\".format(clf.coef_[2]), \"{0:.2f}\".format(clf.coef_[3]), \"{0:.2f}\".format(clf.coef_[4]),\\\n",
    "           \"{0:.2f}\".format(clf.coef_[5]), \"{0:.2f}\".format(clf.coef_[6]), \"{0:.2f}\".format(clf.coef_[7]), \"{0:.2f}\".format(clf.coef_[8]),\\\n",
    "           \"{0:.2f}\".format(clf.coef_[9]), \"{0:.2f}\".format(clf.coef_[10]), \"{0:.2f}\".format(clf.coef_[11]), \"{0:.2f}\".format(clf.coef_[12])])\n",
    "print(x)"
   ]
  },
  {
   "cell_type": "markdown",
   "metadata": {},
   "source": [
    "<h2>5. Summary</h2>"
   ]
  },
  {
   "cell_type": "markdown",
   "metadata": {},
   "source": [
    "Both the custom and scikit-learn linear regression models achieve similar mean squared error (MSE). With a relatively low MSE, these models would work well to predict housing values in Boston, with them performing about equally well."
   ]
  }
 ],
 "metadata": {
  "kernelspec": {
   "display_name": "Python 3",
   "language": "python",
   "name": "python3"
  },
  "language_info": {
   "codemirror_mode": {
    "name": "ipython",
    "version": 3
   },
   "file_extension": ".py",
   "mimetype": "text/x-python",
   "name": "python",
   "nbconvert_exporter": "python",
   "pygments_lexer": "ipython3",
   "version": "3.6.5"
  }
 },
 "nbformat": 4,
 "nbformat_minor": 2
}
